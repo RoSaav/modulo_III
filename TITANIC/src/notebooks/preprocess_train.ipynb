{
 "cells": [
  {
   "cell_type": "markdown",
   "metadata": {},
   "source": [
    "TITANIC PRACTICE - PIPELINE PROCESS PREPROCESS/TRAIN"
   ]
  },
  {
   "cell_type": "code",
   "execution_count": 10,
   "metadata": {},
   "outputs": [],
   "source": [
    "import pandas as pd\n",
    "import numpy as np\n",
    "import requests\n",
    "import json\n",
    "import matplotlib.pyplot as plt\n",
    "from sklearn.model_selection import train_test_split\n",
    "from sklearn.ensemble import RandomForestClassifier\n",
    "from sklearn.metrics import accuracy_score"
   ]
  },
  {
   "cell_type": "code",
   "execution_count": 3,
   "metadata": {},
   "outputs": [],
   "source": [
    "#read dataset\n",
    "data_path = r'C:\\Users\\migro\\Documents\\GitHub\\modulo_III\\TITANIC\\data\\phpMYEkMl.csv'\n",
    "df = pd.read_csv(data_path)"
   ]
  },
  {
   "cell_type": "code",
   "execution_count": 71,
   "metadata": {},
   "outputs": [],
   "source": [
    "#missing data detected with '?'\n",
    "df.replace('?', np.nan, inplace=True)"
   ]
  },
  {
   "cell_type": "code",
   "execution_count": 72,
   "metadata": {},
   "outputs": [
    {
     "name": "stdout",
     "output_type": "stream",
     "text": [
      " \n",
      "Total: 14\n",
      "Número de variables con menos del 70%: 4\n",
      "Restante: 10\n",
      "\n"
     ]
    },
    {
     "data": {
      "text/html": [
       "<div>\n",
       "<style scoped>\n",
       "    .dataframe tbody tr th:only-of-type {\n",
       "        vertical-align: middle;\n",
       "    }\n",
       "\n",
       "    .dataframe tbody tr th {\n",
       "        vertical-align: top;\n",
       "    }\n",
       "\n",
       "    .dataframe thead th {\n",
       "        text-align: right;\n",
       "    }\n",
       "</style>\n",
       "<table border=\"1\" class=\"dataframe\">\n",
       "  <thead>\n",
       "    <tr style=\"text-align: right;\">\n",
       "      <th></th>\n",
       "      <th>columna</th>\n",
       "      <th>% completitud</th>\n",
       "    </tr>\n",
       "  </thead>\n",
       "  <tbody>\n",
       "    <tr>\n",
       "      <th>12</th>\n",
       "      <td>body</td>\n",
       "      <td>9.243697</td>\n",
       "    </tr>\n",
       "    <tr>\n",
       "      <th>9</th>\n",
       "      <td>cabin</td>\n",
       "      <td>22.536287</td>\n",
       "    </tr>\n",
       "    <tr>\n",
       "      <th>11</th>\n",
       "      <td>boat</td>\n",
       "      <td>37.127578</td>\n",
       "    </tr>\n",
       "    <tr>\n",
       "      <th>13</th>\n",
       "      <td>home.dest</td>\n",
       "      <td>56.913675</td>\n",
       "    </tr>\n",
       "    <tr>\n",
       "      <th>4</th>\n",
       "      <td>age</td>\n",
       "      <td>79.908327</td>\n",
       "    </tr>\n",
       "    <tr>\n",
       "      <th>10</th>\n",
       "      <td>embarked</td>\n",
       "      <td>99.847212</td>\n",
       "    </tr>\n",
       "    <tr>\n",
       "      <th>8</th>\n",
       "      <td>fare</td>\n",
       "      <td>99.923606</td>\n",
       "    </tr>\n",
       "    <tr>\n",
       "      <th>0</th>\n",
       "      <td>pclass</td>\n",
       "      <td>100.000000</td>\n",
       "    </tr>\n",
       "    <tr>\n",
       "      <th>1</th>\n",
       "      <td>survived</td>\n",
       "      <td>100.000000</td>\n",
       "    </tr>\n",
       "    <tr>\n",
       "      <th>2</th>\n",
       "      <td>name</td>\n",
       "      <td>100.000000</td>\n",
       "    </tr>\n",
       "    <tr>\n",
       "      <th>3</th>\n",
       "      <td>sex</td>\n",
       "      <td>100.000000</td>\n",
       "    </tr>\n",
       "    <tr>\n",
       "      <th>5</th>\n",
       "      <td>sibsp</td>\n",
       "      <td>100.000000</td>\n",
       "    </tr>\n",
       "    <tr>\n",
       "      <th>6</th>\n",
       "      <td>parch</td>\n",
       "      <td>100.000000</td>\n",
       "    </tr>\n",
       "    <tr>\n",
       "      <th>7</th>\n",
       "      <td>ticket</td>\n",
       "      <td>100.000000</td>\n",
       "    </tr>\n",
       "  </tbody>\n",
       "</table>\n",
       "</div>"
      ],
      "text/plain": [
       "      columna  % completitud\n",
       "12       body       9.243697\n",
       "9       cabin      22.536287\n",
       "11       boat      37.127578\n",
       "13  home.dest      56.913675\n",
       "4         age      79.908327\n",
       "10   embarked      99.847212\n",
       "8        fare      99.923606\n",
       "0      pclass     100.000000\n",
       "1    survived     100.000000\n",
       "2        name     100.000000\n",
       "3         sex     100.000000\n",
       "5       sibsp     100.000000\n",
       "6       parch     100.000000\n",
       "7      ticket     100.000000"
      ]
     },
     "execution_count": 72,
     "metadata": {},
     "output_type": "execute_result"
    }
   ],
   "source": [
    "#completitud\n",
    "completitud = pd.DataFrame((1-df.isnull().sum()/df.shape[0])*100).reset_index().rename(columns={\"index\":\"columna\",0:\"% completitud\"})\n",
    "c = 70\n",
    "print(f''' \n",
    "Total: {len(list(completitud.columna))}\n",
    "Número de variables con menos del {c}%: {len(list(completitud[completitud['% completitud']<c].columna))}\n",
    "Restante: {len(list(completitud[completitud['% completitud']>=c].columna))}\n",
    "''')\n",
    "completitud.sort_values(by='% completitud')\n",
    "#hay d"
   ]
  },
  {
   "cell_type": "code",
   "execution_count": 68,
   "metadata": {},
   "outputs": [
    {
     "data": {
      "text/plain": [
       "(1309, 10)"
      ]
     },
     "execution_count": 68,
     "metadata": {},
     "output_type": "execute_result"
    }
   ],
   "source": [
    "df.drop(['boat','body','home.dest'],axis=1,inplace=True)\n",
    "df.shape"
   ]
  },
  {
   "cell_type": "code",
   "execution_count": 58,
   "metadata": {},
   "outputs": [
    {
     "data": {
      "text/html": [
       "<div>\n",
       "<style scoped>\n",
       "    .dataframe tbody tr th:only-of-type {\n",
       "        vertical-align: middle;\n",
       "    }\n",
       "\n",
       "    .dataframe tbody tr th {\n",
       "        vertical-align: top;\n",
       "    }\n",
       "\n",
       "    .dataframe thead th {\n",
       "        text-align: right;\n",
       "    }\n",
       "</style>\n",
       "<table border=\"1\" class=\"dataframe\">\n",
       "  <thead>\n",
       "    <tr style=\"text-align: right;\">\n",
       "      <th></th>\n",
       "      <th>pclass</th>\n",
       "      <th>survived</th>\n",
       "      <th>sibsp</th>\n",
       "      <th>parch</th>\n",
       "    </tr>\n",
       "  </thead>\n",
       "  <tbody>\n",
       "    <tr>\n",
       "      <th>count</th>\n",
       "      <td>1309.000000</td>\n",
       "      <td>1309.000000</td>\n",
       "      <td>1309.000000</td>\n",
       "      <td>1309.000000</td>\n",
       "    </tr>\n",
       "    <tr>\n",
       "      <th>mean</th>\n",
       "      <td>2.294882</td>\n",
       "      <td>0.381971</td>\n",
       "      <td>0.498854</td>\n",
       "      <td>0.385027</td>\n",
       "    </tr>\n",
       "    <tr>\n",
       "      <th>std</th>\n",
       "      <td>0.837836</td>\n",
       "      <td>0.486055</td>\n",
       "      <td>1.041658</td>\n",
       "      <td>0.865560</td>\n",
       "    </tr>\n",
       "    <tr>\n",
       "      <th>min</th>\n",
       "      <td>1.000000</td>\n",
       "      <td>0.000000</td>\n",
       "      <td>0.000000</td>\n",
       "      <td>0.000000</td>\n",
       "    </tr>\n",
       "    <tr>\n",
       "      <th>25%</th>\n",
       "      <td>2.000000</td>\n",
       "      <td>0.000000</td>\n",
       "      <td>0.000000</td>\n",
       "      <td>0.000000</td>\n",
       "    </tr>\n",
       "    <tr>\n",
       "      <th>50%</th>\n",
       "      <td>3.000000</td>\n",
       "      <td>0.000000</td>\n",
       "      <td>0.000000</td>\n",
       "      <td>0.000000</td>\n",
       "    </tr>\n",
       "    <tr>\n",
       "      <th>75%</th>\n",
       "      <td>3.000000</td>\n",
       "      <td>1.000000</td>\n",
       "      <td>1.000000</td>\n",
       "      <td>0.000000</td>\n",
       "    </tr>\n",
       "    <tr>\n",
       "      <th>max</th>\n",
       "      <td>3.000000</td>\n",
       "      <td>1.000000</td>\n",
       "      <td>8.000000</td>\n",
       "      <td>9.000000</td>\n",
       "    </tr>\n",
       "  </tbody>\n",
       "</table>\n",
       "</div>"
      ],
      "text/plain": [
       "            pclass     survived        sibsp        parch\n",
       "count  1309.000000  1309.000000  1309.000000  1309.000000\n",
       "mean      2.294882     0.381971     0.498854     0.385027\n",
       "std       0.837836     0.486055     1.041658     0.865560\n",
       "min       1.000000     0.000000     0.000000     0.000000\n",
       "25%       2.000000     0.000000     0.000000     0.000000\n",
       "50%       3.000000     0.000000     0.000000     0.000000\n",
       "75%       3.000000     1.000000     1.000000     0.000000\n",
       "max       3.000000     1.000000     8.000000     9.000000"
      ]
     },
     "execution_count": 58,
     "metadata": {},
     "output_type": "execute_result"
    }
   ],
   "source": [
    "df.describe()"
   ]
  },
  {
   "cell_type": "code",
   "execution_count": 59,
   "metadata": {},
   "outputs": [
    {
     "data": {
      "text/plain": [
       "pclass       int64\n",
       "survived     int64\n",
       "name        object\n",
       "sex         object\n",
       "age         object\n",
       "sibsp        int64\n",
       "parch        int64\n",
       "ticket      object\n",
       "fare        object\n",
       "embarked    object\n",
       "dtype: object"
      ]
     },
     "execution_count": 59,
     "metadata": {},
     "output_type": "execute_result"
    }
   ],
   "source": [
    "df.dtypes"
   ]
  },
  {
   "cell_type": "code",
   "execution_count": 60,
   "metadata": {},
   "outputs": [
    {
     "name": "stdout",
     "output_type": "stream",
     "text": [
      "pclass\n",
      "======\n",
      "3    709\n",
      "1    323\n",
      "2    277\n",
      "Name: pclass, dtype: int64\n",
      "\n",
      "survived\n",
      "========\n",
      "0    809\n",
      "1    500\n",
      "Name: survived, dtype: int64\n",
      "\n",
      "name\n",
      "====\n",
      "Connolly, Miss. Kate             2\n",
      "Kelly, Mr. James                 2\n",
      "Allen, Miss. Elisabeth Walton    1\n",
      "Ilmakangas, Miss. Ida Livija     1\n",
      "Ilieff, Mr. Ylio                 1\n",
      "                                ..\n",
      "Hart, Miss. Eva Miriam           1\n",
      "Harris, Mr. Walter               1\n",
      "Harris, Mr. George               1\n",
      "Harper, Rev. John                1\n",
      "Zimmerman, Mr. Leo               1\n",
      "Name: name, Length: 1307, dtype: int64\n",
      "\n",
      "sex\n",
      "===\n",
      "male      843\n",
      "female    466\n",
      "Name: sex, dtype: int64\n",
      "\n",
      "age\n",
      "===\n",
      "NaN       263\n",
      "24         47\n",
      "22         43\n",
      "21         41\n",
      "30         40\n",
      "         ... \n",
      "66          1\n",
      "0.6667      1\n",
      "76          1\n",
      "67          1\n",
      "26.5        1\n",
      "Name: age, Length: 99, dtype: int64\n",
      "\n",
      "sibsp\n",
      "=====\n",
      "0    891\n",
      "1    319\n",
      "2     42\n",
      "4     22\n",
      "3     20\n",
      "8      9\n",
      "5      6\n",
      "Name: sibsp, dtype: int64\n",
      "\n",
      "parch\n",
      "=====\n",
      "0    1002\n",
      "1     170\n",
      "2     113\n",
      "3       8\n",
      "4       6\n",
      "5       6\n",
      "6       2\n",
      "9       2\n",
      "Name: parch, dtype: int64\n",
      "\n",
      "ticket\n",
      "======\n",
      "CA. 2343    11\n",
      "1601         8\n",
      "CA 2144      8\n",
      "PC 17608     7\n",
      "347077       7\n",
      "            ..\n",
      "373450       1\n",
      "2223         1\n",
      "350046       1\n",
      "3101281      1\n",
      "315082       1\n",
      "Name: ticket, Length: 929, dtype: int64\n",
      "\n",
      "fare\n",
      "====\n",
      "8.05       60\n",
      "13         59\n",
      "7.75       55\n",
      "26         50\n",
      "7.8958     49\n",
      "           ..\n",
      "15.05       1\n",
      "14          1\n",
      "15.5792     1\n",
      "12          1\n",
      "7.875       1\n",
      "Name: fare, Length: 282, dtype: int64\n",
      "\n",
      "embarked\n",
      "========\n",
      "S      914\n",
      "C      270\n",
      "Q      123\n",
      "NaN      2\n",
      "Name: embarked, dtype: int64\n",
      "\n"
     ]
    }
   ],
   "source": [
    "for col in df.columns:\n",
    "    print(col)\n",
    "    print('='*len(col))\n",
    "    print(df[col].value_counts(dropna=False))\n",
    "    print()"
   ]
  },
  {
   "cell_type": "code",
   "execution_count": 61,
   "metadata": {},
   "outputs": [],
   "source": [
    "df['age'] = df['age'].astype('float')\n",
    "df['fare'] = df['fare'].astype('float')"
   ]
  },
  {
   "cell_type": "code",
   "execution_count": 25,
   "metadata": {},
   "outputs": [],
   "source": [
    "target = 'survived'\n",
    "num_vars = [col for col in df.columns if df[col].dtype != object and col != target]\n",
    "cat_vars = [col for col in df.columns if df[col].dtype == object]"
   ]
  },
  {
   "cell_type": "code",
   "execution_count": 88,
   "metadata": {},
   "outputs": [],
   "source": [
    "def extract_title(input_string):\n",
    "    return input_string.split(',')[1].split('.')[0].strip()\n",
    "\n",
    "def extract_cabin(input_string):\n",
    "    return np.nan if pd.isnull(input_string) else input_string[0][0]\n",
    "\n",
    "df['title'] = df['name'].apply(extract_title)\n",
    "df['cabin_letter'] = df['cabin'].apply(extract_cabin)\n",
    "df.drop()"
   ]
  },
  {
   "cell_type": "markdown",
   "metadata": {},
   "source": [
    "# REQUESTS"
   ]
  },
  {
   "cell_type": "code",
   "execution_count": 2,
   "metadata": {},
   "outputs": [
    {
     "name": "stdout",
     "output_type": "stream",
     "text": [
      "[{\"id\":3087,\"name\":\"Pushti Kaul\",\"email\":\"pushti_kaul@abernathy.co\",\"gender\":\"female\",\"status\":\"active\"},{\"id\":3086,\"name\":\"Anilaabh Kocchar\",\"email\":\"anilaabh_kocchar@hartmann.biz\",\"gender\":\"male\",\"status\":\"inactive\"},{\"id\":3085,\"name\":\"Ms. Aadrika Sharma\",\"email\":\"aadrika_ms_sharma@goodwin-schaden.com\",\"gender\":\"female\",\"status\":\"inactive\"},{\"id\":3084,\"name\":\"Ekaparnika Namboothiri DVM\",\"email\":\"namboothiri_ekaparnika_dvm@weber.org\",\"gender\":\"female\",\"status\":\"inactive\"},{\"id\":3083,\"name\":\"Deepesh Menon\",\"email\":\"deepesh_menon@shields.com\",\"gender\":\"female\",\"status\":\"inactive\"},{\"id\":3082,\"name\":\"Ujjawal Saini\",\"email\":\"saini_ujjawal@lang.info\",\"gender\":\"female\",\"status\":\"inactive\"},{\"id\":3081,\"name\":\"Dayaamay Kapoor\",\"email\":\"dayaamay_kapoor@heller.name\",\"gender\":\"male\",\"status\":\"inactive\"},{\"id\":3080,\"name\":\"Amogh Varman II\",\"email\":\"varman_ii_amogh@nader.biz\",\"gender\":\"male\",\"status\":\"inactive\"},{\"id\":3079,\"name\":\"Gajabahu Abbott\",\"email\":\"abbott_gajabahu@rohan.name\",\"gender\":\"female\",\"status\":\"active\"},{\"id\":3078,\"name\":\"Shresth Mukhopadhyay\",\"email\":\"mukhopadhyay_shresth@crona.org\",\"gender\":\"female\",\"status\":\"active\"}]\n"
     ]
    }
   ],
   "source": [
    "import requests\n",
    "\n",
    "url = \"https://gorest.co.in/public/v2/users/?page=3\"\n",
    "\n",
    "payload={}\n",
    "headers = {}\n",
    "\n",
    "response = requests.request(\"GET\", url, headers=headers, data=payload)\n",
    "\n",
    "print(response.text)"
   ]
  },
  {
   "cell_type": "code",
   "execution_count": null,
   "metadata": {},
   "outputs": [],
   "source": [
    "\n",
    "\n",
    "url = \"https://gorest.co.in/public/v2/users\"\n",
    "\n",
    "#json en string\n",
    "payload = json.dumps({\n",
    "  \"name\": \"Rodrigo Saavedra\",\n",
    "  \"email\": \"ro_saav@abernathy.co\",\n",
    "  \"gender\": \"male\",\n",
    "  \"status\": \"active\"\n",
    "})\n",
    "headers = {\n",
    "  'Authorization': 'Bearer ',\n",
    "  'Content-Type': 'application/json'\n",
    "}\n",
    "\n",
    "response = requests.request(\"POST\", url, headers=headers, data=payload)\n",
    "\n",
    "print(response.text)"
   ]
  },
  {
   "cell_type": "code",
   "execution_count": 7,
   "metadata": {},
   "outputs": [
    {
     "name": "stdout",
     "output_type": "stream",
     "text": [
      "{\"id\":4132,\"name\":\"Rodrigo Saavedra\",\"email\":\"rodrigo_saavedra@abernathy.mx\",\"gender\":\"male\",\"status\":\"active\"}\n"
     ]
    }
   ],
   "source": [
    "\n",
    "url = \"https://gorest.co.in/public/v2/users/4132\"\n",
    "\n",
    "payload={}\n",
    "headers = {\n",
    "  'Authorization': 'Bearer '\n",
    "}\n",
    "\n",
    "response = requests.request(\"GET\", url, headers=headers, data=payload)\n",
    "\n",
    "print(response.text)"
   ]
  },
  {
   "cell_type": "code",
   "execution_count": 9,
   "metadata": {},
   "outputs": [
    {
     "name": "stdout",
     "output_type": "stream",
     "text": [
      "{\"id\":1648,\"post_id\":1647,\"name\":\"Felipe Hernandez\",\"email\":\"pipe_hdez@abernathy.mx\",\"body\":\"Hola mundo 2\"}\n"
     ]
    }
   ],
   "source": [
    "import requests\n",
    "import json\n",
    "\n",
    "url = \"https://gorest.co.in/public/v2/posts/1647/comments\"\n",
    "\n",
    "payload = json.dumps({\n",
    "  \"post\": \"Segundo comentario\",\n",
    "  \"body\": \"Hola mundo 2\",\n",
    "  \"name\": \"Felipe Hernandez\",\n",
    "  \"email\": \"pipe_hdez@abernathy.mx\"\n",
    "})\n",
    "headers = {\n",
    "  'Authorization': 'Bearer ',\n",
    "  'Content-Type': 'application/json'\n",
    "}\n",
    "\n",
    "response = requests.request(\"POST\", url, headers=headers, data=payload)\n",
    "\n",
    "print(response.text)"
   ]
  },
  {
   "cell_type": "code",
   "execution_count": null,
   "metadata": {},
   "outputs": [],
   "source": [
    "import requests\n",
    "\n",
    "url = \"https://gorest.co.in/public/v2/users/4132\"\n",
    "\n",
    "payload={}\n",
    "headers = {\n",
    "  'Authorization': 'Bearer '\n",
    "}\n",
    "\n",
    "response = requests.request(\"DELETE\", url, headers=headers, data=payload)\n",
    "\n",
    "print(response.text)"
   ]
  }
 ],
 "metadata": {
  "kernelspec": {
   "display_name": "Python 3.8.13 ('mlops_titanic')",
   "language": "python",
   "name": "python3"
  },
  "language_info": {
   "codemirror_mode": {
    "name": "ipython",
    "version": 3
   },
   "file_extension": ".py",
   "mimetype": "text/x-python",
   "name": "python",
   "nbconvert_exporter": "python",
   "pygments_lexer": "ipython3",
   "version": "3.8.13"
  },
  "orig_nbformat": 4,
  "vscode": {
   "interpreter": {
    "hash": "4dc4f12afe6891e64b24dab2e2aab99821da51bd34d8d76d3a7ea22963e7c4e5"
   }
  }
 },
 "nbformat": 4,
 "nbformat_minor": 2
}
